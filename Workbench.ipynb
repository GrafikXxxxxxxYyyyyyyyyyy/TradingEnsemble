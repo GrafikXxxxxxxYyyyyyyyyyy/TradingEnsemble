{
 "cells": [
  {
   "cell_type": "code",
   "execution_count": 3,
   "id": "d23af5a0",
   "metadata": {},
   "outputs": [],
   "source": [
    "from utils.parsing import parse_snp500\n",
    "from utils.data import TradingDataset, show_data\n",
    "\n",
    "from torch.utils.data import DataLoader"
   ]
  },
  {
   "cell_type": "markdown",
   "id": "2e604212",
   "metadata": {},
   "source": [
    "# Устанавливаем гиперпараметры"
   ]
  },
  {
   "cell_type": "code",
   "execution_count": 5,
   "id": "449a173e",
   "metadata": {},
   "outputs": [],
   "source": [
    "MAX_LENGHT = 256\n",
    "TEST_LENGHT = 32\n",
    "SPLIT_COEFF = 0.1\n",
    "BATCH_SIZE = 16"
   ]
  },
  {
   "cell_type": "markdown",
   "id": "bfba558f",
   "metadata": {},
   "source": [
    "# Парсим данные snp500 в папку \"data/\" если их нет"
   ]
  },
  {
   "cell_type": "code",
   "execution_count": null,
   "id": "e266b0a8",
   "metadata": {},
   "outputs": [
    {
     "name": "stdout",
     "output_type": "stream",
     "text": [
      "Symbol MMM parse failed!\n",
      "Symbol AOS parse failed!\n",
      "Symbol ABT parse failed!\n",
      "Symbol ABBV parse failed!\n"
     ]
    }
   ],
   "source": [
    "# парсим данные за последние 7+ лет (выборка бOльшего размера просто не влезет в память)\n",
    "parse_snp500(dirpath='data/', \n",
    "             start='2017-01-01', \n",
    "             timeframe='1d', \n",
    "             max_train_len=256, \n",
    "             test_len=32, \n",
    "             split_coeff=0.1)"
   ]
  },
  {
   "cell_type": "markdown",
   "id": "692365ff",
   "metadata": {},
   "source": [
    "# Создаём loader'ы для train и val выборок"
   ]
  },
  {
   "cell_type": "code",
   "execution_count": null,
   "id": "e76dd364",
   "metadata": {},
   "outputs": [],
   "source": [
    "# Получаем датасеты данных для обучения и валидации\n",
    "train_dataset = TradingDataset(root_dir=\"data/train\", train_len=256, test_len=32)\n",
    "val_dataset = TradingDataset(root_dir=\"data/val\", train_len=256, test_len=32)\n",
    "\n",
    "print(f\"Train dataset lenght: {len(train_dataset)}\\nValidation dataset lenght: {len(val_dataset)}\\n\")\n",
    "\n",
    "train_loader = DataLoader(train_dataset, batch_size=BATCH_SIZE, shuffle=True)\n",
    "val_loader = DataLoader(val_dataset, batch_size=BATCH_SIZE, shuffle=True)\n",
    "\n",
    "print(f\"Train loader lenght: {len(train_loader)}\\nValidation loader lenght: {len(val_loader)}\")"
   ]
  },
  {
   "cell_type": "markdown",
   "id": "da6853cd",
   "metadata": {},
   "source": [
    "# Посмотрим на то что хранится в loader'ах"
   ]
  },
  {
   "cell_type": "code",
   "execution_count": null,
   "id": "b1292308",
   "metadata": {},
   "outputs": [],
   "source": [
    "show_data(val_loader)"
   ]
  },
  {
   "cell_type": "markdown",
   "id": "50b7f3c9",
   "metadata": {},
   "source": [
    "# Построим модель"
   ]
  },
  {
   "cell_type": "code",
   "execution_count": null,
   "id": "74472cac",
   "metadata": {
    "scrolled": true
   },
   "outputs": [],
   "source": [
    "%run models/VGG16Based.py\n",
    "\n",
    "myModel = VGG16Based(seq_len=60)\n",
    "myModel"
   ]
  },
  {
   "cell_type": "code",
   "execution_count": null,
   "id": "52d87e86",
   "metadata": {},
   "outputs": [],
   "source": [
    "train_sample = next(iter(train_loader))[0]\n",
    "myModel(train_sample).shape, next(iter(train_loader))[1].shape"
   ]
  },
  {
   "cell_type": "code",
   "execution_count": 1,
   "id": "845908ad",
   "metadata": {},
   "outputs": [],
   "source": [
    "import os\n",
    "import matplotlib.pyplot as plt\n",
    "\n",
    "def show_quality (model, loader, num=4):\n",
    "    train, test = next(iter(loader))\n",
    "    \n",
    "    train = train[:num]\n",
    "    test = test[:num]\n",
    "    \n",
    "    pred = model(train).detach()\n",
    "\n",
    "    fig, axs = plt.subplots(int(num**(1/2)), int(num**(1/2)), figsize=(20, 10))\n",
    "    \n",
    "    for i in range(num):\n",
    "        row = i // int(num**(1/2))\n",
    "        col = i % int(num**(1/2))\n",
    "\n",
    "        real = torch.hstack((train[i, 3, :], test[i, 0, :]))\n",
    "        predict = torch.hstack((train[i, 3, :], pred[i, 0, :]))\n",
    "\n",
    "        axs[row, col].plot(predict, \"red\")\n",
    "        axs[row, col].plot(real, \"black\")\n",
    "        axs[row, col].grid()\n",
    "    \n",
    "    image_path = 'plot_image.png'\n",
    "    plt.savefig(image_path)\n",
    "    plt.show()\n",
    "\n",
    "    os.remove(image_path)"
   ]
  },
  {
   "cell_type": "code",
   "execution_count": 2,
   "id": "84f33900",
   "metadata": {
    "scrolled": false
   },
   "outputs": [
    {
     "ename": "NameError",
     "evalue": "name 'myModel' is not defined",
     "output_type": "error",
     "traceback": [
      "\u001b[0;31m---------------------------------------------------------------------------\u001b[0m",
      "\u001b[0;31mNameError\u001b[0m                                 Traceback (most recent call last)",
      "Cell \u001b[0;32mIn[2], line 1\u001b[0m\n\u001b[0;32m----> 1\u001b[0m show_quality(\u001b[43mmyModel\u001b[49m, val_loader)\n",
      "\u001b[0;31mNameError\u001b[0m: name 'myModel' is not defined"
     ]
    }
   ],
   "source": [
    "show_quality(myModel, val_loader)"
   ]
  },
  {
   "cell_type": "code",
   "execution_count": null,
   "id": "ae6b94b1",
   "metadata": {},
   "outputs": [],
   "source": []
  },
  {
   "cell_type": "code",
   "execution_count": null,
   "id": "7081328f",
   "metadata": {},
   "outputs": [],
   "source": []
  },
  {
   "cell_type": "code",
   "execution_count": null,
   "id": "1a8fe8c1",
   "metadata": {},
   "outputs": [],
   "source": []
  }
 ],
 "metadata": {
  "kernelspec": {
   "display_name": "AE venv",
   "language": "python",
   "name": ".venv"
  },
  "language_info": {
   "codemirror_mode": {
    "name": "ipython",
    "version": 3
   },
   "file_extension": ".py",
   "mimetype": "text/x-python",
   "name": "python",
   "nbconvert_exporter": "python",
   "pygments_lexer": "ipython3",
   "version": "3.11.2"
  }
 },
 "nbformat": 4,
 "nbformat_minor": 5
}
